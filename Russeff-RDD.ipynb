{
 "cells": [
  {
   "cell_type": "code",
   "execution_count": 1,
   "metadata": {},
   "outputs": [],
   "source": [
    "#Mark Russeff\n",
    "#Homework 7\n",
    "import pyspark\n",
    "from pyspark.sql import SQLContext\n",
    "\n",
    "sc = pyspark.SparkContext('local[*]')"
   ]
  },
  {
   "cell_type": "code",
   "execution_count": 2,
   "metadata": {},
   "outputs": [],
   "source": [
    "data_file = \"./OLX_Car_Data_CSV.csv\"\n",
    "data = sc.textFile(data_file)\n",
    "\n",
    "data_header = data.first() \n",
    "header = sc.parallelize([data_header])\n",
    "raw_data = data.subtract(header) #extract header"
   ]
  },
  {
   "cell_type": "code",
   "execution_count": 3,
   "metadata": {},
   "outputs": [
    {
     "data": {
      "text/plain": [
       "24973"
      ]
     },
     "execution_count": 3,
     "metadata": {},
     "output_type": "execute_result"
    }
   ],
   "source": [
    "raw_data.count()"
   ]
  },
  {
   "cell_type": "code",
   "execution_count": 4,
   "metadata": {},
   "outputs": [
    {
     "data": {
      "text/plain": [
       "['Toyota,Used,Diesel,1,Prado,2100000,Karachi,Cash,1997',\n",
       " 'Toyota,Used,Diesel,1,Prado,2100000,Karachi,Cash,1997',\n",
       " 'Suzuki,Used,Petrol,94000,Alto,535000,Karachi,Cash,2010',\n",
       " 'Toyota,Used,Petrol,100000,Corolla XLI,1430000,Karachi,Cash,2013',\n",
       " 'Suzuki,New,CNG,65000,Cultus VXL,450000,Karachi,Cash,2006']"
      ]
     },
     "execution_count": 4,
     "metadata": {},
     "output_type": "execute_result"
    }
   ],
   "source": [
    "raw_data.take(5)"
   ]
  },
  {
   "cell_type": "code",
   "execution_count": 5,
   "metadata": {},
   "outputs": [],
   "source": [
    "#Creating an RDD using parellelize\n",
    "a = range(100)\n",
    "    \n",
    "data = sc.parallelize(a)"
   ]
  },
  {
   "cell_type": "code",
   "execution_count": 6,
   "metadata": {},
   "outputs": [
    {
     "data": {
      "text/plain": [
       "100"
      ]
     },
     "execution_count": 6,
     "metadata": {},
     "output_type": "execute_result"
    }
   ],
   "source": [
    "data.count()"
   ]
  },
  {
   "cell_type": "code",
   "execution_count": 7,
   "metadata": {},
   "outputs": [
    {
     "data": {
      "text/plain": [
       "[0, 1, 2, 3, 4]"
      ]
     },
     "execution_count": 7,
     "metadata": {},
     "output_type": "execute_result"
    }
   ],
   "source": [
    "data.take(5)"
   ]
  },
  {
   "cell_type": "code",
   "execution_count": 17,
   "metadata": {},
   "outputs": [],
   "source": [
    "#Filter transformation\n",
    "#Counting the number of Toyotas\n",
    "toyota_raw_data = raw_data.filter(lambda x: 'Toyota' in x)"
   ]
  },
  {
   "cell_type": "code",
   "execution_count": 18,
   "metadata": {},
   "outputs": [
    {
     "name": "stdout",
     "output_type": "stream",
     "text": [
      "There are 4981 Toyotas\n",
      "Count completed in 0.399 seconds\n"
     ]
    }
   ],
   "source": [
    "from time import time\n",
    "t0 = time()\n",
    "toyota_count = toyota_raw_data.count()\n",
    "tt = time() - t0\n",
    "\n",
    "print(\"There are {} Toyotas\".format(toyota_count))\n",
    "print(\"Count completed in {} seconds\".format(round(tt,3)))"
   ]
  },
  {
   "cell_type": "code",
   "execution_count": 19,
   "metadata": {},
   "outputs": [
    {
     "name": "stdout",
     "output_type": "stream",
     "text": [
      "Parse completed in 0.127 seconds\n",
      "['Toyota', 'Used', 'Diesel', '1', 'Prado', '2100000', 'Karachi', 'Cash', '1997']\n"
     ]
    }
   ],
   "source": [
    "#Map transformation\n",
    "from pprint import pprint\n",
    "csv_data = raw_data.map(lambda x: x.split(\",\"))\n",
    "t0 = time()\n",
    "head_rows = csv_data.take(5)\n",
    "tt = time() - t0\n",
    "\n",
    "print(\"Parse completed in {} seconds\".format(round(tt,3)))\n",
    "pprint(head_rows[0])"
   ]
  },
  {
   "cell_type": "code",
   "execution_count": 20,
   "metadata": {},
   "outputs": [
    {
     "name": "stdout",
     "output_type": "stream",
     "text": [
      "Parse completed in 1.474 seconds\n"
     ]
    }
   ],
   "source": [
    "#Take a lot of elements for Map transformation\n",
    "t0 = time()\n",
    "head_rows = csv_data.take(100000)\n",
    "tt = time() - t0\n",
    "\n",
    "print(\"Parse completed in {} seconds\".format(round(tt,3)))"
   ]
  },
  {
   "cell_type": "code",
   "execution_count": 24,
   "metadata": {},
   "outputs": [
    {
     "name": "stdout",
     "output_type": "stream",
     "text": [
      "('Toyota',\n",
      " ['Toyota',\n",
      "  'Used',\n",
      "  'Diesel',\n",
      "  '1',\n",
      "  'Prado',\n",
      "  '2100000',\n",
      "  'Karachi',\n",
      "  'Cash',\n",
      "  '1997'])\n"
     ]
    }
   ],
   "source": [
    "#Map with predefined function\n",
    "def parse_interaction(line):\n",
    "    elems = line.split(\",\")\n",
    "    tag = elems[0]\n",
    "    return (tag, elems)\n",
    "\n",
    "key_csv_data = raw_data.map(parse_interaction)\n",
    "head_rows = key_csv_data.take(5)\n",
    "pprint(head_rows[0])"
   ]
  },
  {
   "cell_type": "code",
   "execution_count": 25,
   "metadata": {},
   "outputs": [
    {
     "name": "stdout",
     "output_type": "stream",
     "text": [
      "Data collected in 0.524 seconds\n"
     ]
    }
   ],
   "source": [
    "#The collect action\n",
    "t0 = time()\n",
    "all_raw_data = raw_data.collect()\n",
    "tt = time() - t0\n",
    "\n",
    "print(\"Data collected in {} seconds\".format(round(tt,3)))"
   ]
  },
  {
   "cell_type": "code",
   "execution_count": 29,
   "metadata": {},
   "outputs": [
    {
     "name": "stdout",
     "output_type": "stream",
     "text": [
      "Data collected in 1.052 seconds\n",
      "There are 4981 'Toyotas'\n"
     ]
    }
   ],
   "source": [
    "#Run all in one...\n",
    "#Get data from file\n",
    "data_file = \"./OLX_Car_Data_CSV.csv\"\n",
    "data = sc.textFile(data_file)\n",
    "\n",
    "data_header = data.first() \n",
    "header = sc.parallelize([data_header])\n",
    "raw_data = data.subtract(header)\n",
    "\n",
    "#Parse into key-value pairs\n",
    "key_csv_data = raw_data.map(parse_interaction)\n",
    "\n",
    "#Filter Toyota key elements\n",
    "toyota_key = key_csv_data.filter(lambda x: x[0] == \"Toyota\")\n",
    "\n",
    "#Collect all\n",
    "t0 = time()\n",
    "all_toyota = toyota_key.collect()\n",
    "tt = time() - t0\n",
    "toyota_count = len(all_toyota)\n",
    "\n",
    "print(\"Data collected in {} seconds\".format(round(tt,3)))\n",
    "print(\"There are {} 'Toyotas'\".format(toyota_count))"
   ]
  },
  {
   "cell_type": "code",
   "execution_count": 30,
   "metadata": {},
   "outputs": [
    {
     "name": "stdout",
     "output_type": "stream",
     "text": [
      "Sample size is 2363 of 24973\n"
     ]
    }
   ],
   "source": [
    "#The sample transformation\n",
    "raw_data_sample = raw_data.sample(False, 0.1, 1234)\n",
    "sample_size = raw_data_sample.count()\n",
    "total_size = raw_data.count()\n",
    "\n",
    "print(\"Sample size is {} of {}\".format(sample_size, total_size))"
   ]
  },
  {
   "cell_type": "code",
   "execution_count": 37,
   "metadata": {},
   "outputs": [
    {
     "name": "stdout",
     "output_type": "stream",
     "text": [
      "The ratio of 'Toyotas' is 0.201\n",
      "Count done in 0.775 seconds\n"
     ]
    }
   ],
   "source": [
    "# Transformations to be applied\n",
    "raw_data_sample_items = raw_data_sample.map(lambda x: x.split(\",\"))\n",
    "sample_toyota_tags = raw_data_sample_items.filter(lambda x: \"Toyota\" in x)\n",
    "\n",
    "#Actions + time\n",
    "t0 = time()\n",
    "sample_toyota_tags_count = sample_toyota_tags.count()\n",
    "tt = time() - t0\n",
    "\n",
    "sample_toyota_ratio = sample_toyota_tags_count / float(sample_size)\n",
    "print(\"The ratio of 'Toyotas' is {}\".format(round(sample_toyota_ratio,3))) \n",
    "print(\"Count done in {} seconds\".format(round(tt,3)))"
   ]
  },
  {
   "cell_type": "code",
   "execution_count": 38,
   "metadata": {},
   "outputs": [
    {
     "name": "stdout",
     "output_type": "stream",
     "text": [
      "The ratio of 'Toyotas' is 0.199\n",
      "Count done in 0.58 seconds\n"
     ]
    }
   ],
   "source": [
    "#Without Sampling\n",
    "#Transformations to be applied\n",
    "raw_data_items = raw_data.map(lambda x: x.split(\",\"))\n",
    "toyota_tags = raw_data_items.filter(lambda x: \"Toyota\" in x)\n",
    "\n",
    "#Actions + time\n",
    "t0 = time()\n",
    "toyota_tags_count = toyota_tags.count()\n",
    "tt = time() - t0\n",
    "\n",
    "toyota_ratio = toyota_tags_count / float(total_size)\n",
    "print(\"The ratio of 'Toyotas' is {}\".format(round(toyota_ratio,3))) \n",
    "print(\"Count done in {} seconds\".format(round(tt,3)))"
   ]
  },
  {
   "cell_type": "code",
   "execution_count": 40,
   "metadata": {},
   "outputs": [
    {
     "name": "stdout",
     "output_type": "stream",
     "text": [
      "The ratio of 'Toyotas' is 0.1996\n",
      "Count done in 0.845 seconds\n"
     ]
    }
   ],
   "source": [
    "#The takeSample action\n",
    "t0 = time()\n",
    "raw_data_sample = raw_data.takeSample(False, 2500, 1234)\n",
    "toyota_data_sample = [x.split(\",\") for x in raw_data_sample if \"Toyota\" in x]\n",
    "tt = time() - t0\n",
    "\n",
    "toyota_sample_size = len(toyota_data_sample)\n",
    "\n",
    "toyota_ratio = toyota_sample_size / 2500.0\n",
    "print(\"The ratio of 'Toyotas' is {}\".format(toyota_ratio))\n",
    "print(\"Count done in {} seconds\".format(round(tt,3)))"
   ]
  },
  {
   "cell_type": "code",
   "execution_count": 42,
   "metadata": {},
   "outputs": [],
   "source": [
    "#Getting New Cars using substract\n",
    "used_raw_data = raw_data.filter(lambda x: \"Used\" in x)"
   ]
  },
  {
   "cell_type": "code",
   "execution_count": 43,
   "metadata": {},
   "outputs": [],
   "source": [
    "new_raw_data = raw_data.subtract(used_raw_data)"
   ]
  },
  {
   "cell_type": "code",
   "execution_count": 44,
   "metadata": {},
   "outputs": [
    {
     "name": "stdout",
     "output_type": "stream",
     "text": [
      "All count in 0.392 secs\n"
     ]
    }
   ],
   "source": [
    "#Count all\n",
    "t0 = time()\n",
    "raw_data_count = raw_data.count()\n",
    "tt = time() - t0\n",
    "\n",
    "print(\"All count in {} secs\".format(round(tt,3)))"
   ]
  },
  {
   "cell_type": "code",
   "execution_count": 45,
   "metadata": {},
   "outputs": [
    {
     "name": "stdout",
     "output_type": "stream",
     "text": [
      "Used car count in 0.545 secs\n"
     ]
    }
   ],
   "source": [
    "#Count used cars\n",
    "t0 = time()\n",
    "used_raw_data_count = used_raw_data.count()\n",
    "tt = time() - t0\n",
    "\n",
    "print(\"Used car count in {} secs\".format(round(tt,3)))"
   ]
  },
  {
   "cell_type": "code",
   "execution_count": 47,
   "metadata": {},
   "outputs": [
    {
     "name": "stdout",
     "output_type": "stream",
     "text": [
      "New car count in 2.316 secs\n"
     ]
    }
   ],
   "source": [
    "#Count new cars\n",
    "t0 = time()\n",
    "new_raw_data_count = new_raw_data.count()\n",
    "tt = time() - t0\n",
    "print(\"New car count in {} secs\".format(round(tt,3)))"
   ]
  },
  {
   "cell_type": "code",
   "execution_count": 48,
   "metadata": {},
   "outputs": [
    {
     "name": "stdout",
     "output_type": "stream",
     "text": [
      "There are 18472 used cars and 6501 new cars, from a total of 24973 cars\n"
     ]
    }
   ],
   "source": [
    "print(\"There are {} used cars and {} new cars, \\\n",
    "from a total of {} cars\".format(used_raw_data_count,new_raw_data_count,raw_data_count))"
   ]
  },
  {
   "cell_type": "code",
   "execution_count": 49,
   "metadata": {},
   "outputs": [
    {
     "data": {
      "text/plain": [
       "['Suzuki',\n",
       " 'Daihatsu',\n",
       " 'Other Brands',\n",
       " 'Mitsubishi',\n",
       " 'KIA',\n",
       " 'Daewoo',\n",
       " 'FAW',\n",
       " 'Classic & Antiques',\n",
       " '',\n",
       " 'Porsche',\n",
       " 'Range Rover',\n",
       " 'Land Rover',\n",
       " 'Toyota',\n",
       " 'Honda',\n",
       " 'Nissan',\n",
       " 'Hyundai',\n",
       " 'Mercedes',\n",
       " 'Mazda',\n",
       " 'BMW',\n",
       " 'Chevrolet',\n",
       " 'Audi',\n",
       " 'Lexus',\n",
       " 'Changan',\n",
       " 'Subaru']"
      ]
     },
     "execution_count": 49,
     "metadata": {},
     "output_type": "execute_result"
    }
   ],
   "source": [
    "#Protocol and Service Combinations Using cartesian\n",
    "#Get the Makes\n",
    "csv_data = raw_data.map(lambda x: x.split(\",\"))\n",
    "makes = csv_data.map(lambda x: x[0]).distinct()\n",
    "makes.collect()"
   ]
  },
  {
   "cell_type": "code",
   "execution_count": 50,
   "metadata": {},
   "outputs": [
    {
     "data": {
      "text/plain": [
       "['Diesel', 'CNG', 'LPG', '', 'Petrol', 'Hybrid']"
      ]
     },
     "execution_count": 50,
     "metadata": {},
     "output_type": "execute_result"
    }
   ],
   "source": [
    "fuel = csv_data.map(lambda x: x[2]).distinct()\n",
    "fuel.collect()"
   ]
  },
  {
   "cell_type": "code",
   "execution_count": 51,
   "metadata": {},
   "outputs": [
    {
     "name": "stdout",
     "output_type": "stream",
     "text": [
      "There are 144 combinations of make X fuel type\n"
     ]
    }
   ],
   "source": [
    "#Get the Cartesian Product\n",
    "product = makes.cartesian(fuel).collect()\n",
    "print(\"There are {} combinations of make X fuel type\".format(len(product)))"
   ]
  },
  {
   "cell_type": "code",
   "execution_count": null,
   "metadata": {},
   "outputs": [],
   "source": []
  }
 ],
 "metadata": {
  "kernelspec": {
   "display_name": "Python 3",
   "language": "python",
   "name": "python3"
  },
  "language_info": {
   "codemirror_mode": {
    "name": "ipython",
    "version": 3
   },
   "file_extension": ".py",
   "mimetype": "text/x-python",
   "name": "python",
   "nbconvert_exporter": "python",
   "pygments_lexer": "ipython3",
   "version": "3.6.6"
  }
 },
 "nbformat": 4,
 "nbformat_minor": 2
}
